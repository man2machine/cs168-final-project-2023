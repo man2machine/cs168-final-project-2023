{
 "cells": [
  {
   "cell_type": "code",
   "execution_count": 1,
   "metadata": {},
   "outputs": [],
   "source": [
    "import sys\n",
    "\n",
    "sys.path.append(\"../\")\n"
   ]
  },
  {
   "cell_type": "code",
   "execution_count": 2,
   "metadata": {},
   "outputs": [
    {
     "name": "stderr",
     "output_type": "stream",
     "text": [
      "c:\\Users\\Windows\\anaconda3\\envs\\cs168-project\\Lib\\site-packages\\umap\\distances.py:1063: NumbaDeprecationWarning: \u001b[1mThe 'nopython' keyword argument was not supplied to the 'numba.jit' decorator. The implicit default value for this argument is currently False, but it will be changed to True in Numba 0.59.0. See https://numba.readthedocs.io/en/stable/reference/deprecation.html#deprecation-of-object-mode-fall-back-behaviour-when-using-jit for details.\u001b[0m\n",
      "  @numba.jit()\n",
      "c:\\Users\\Windows\\anaconda3\\envs\\cs168-project\\Lib\\site-packages\\umap\\distances.py:1071: NumbaDeprecationWarning: \u001b[1mThe 'nopython' keyword argument was not supplied to the 'numba.jit' decorator. The implicit default value for this argument is currently False, but it will be changed to True in Numba 0.59.0. See https://numba.readthedocs.io/en/stable/reference/deprecation.html#deprecation-of-object-mode-fall-back-behaviour-when-using-jit for details.\u001b[0m\n",
      "  @numba.jit()\n",
      "c:\\Users\\Windows\\anaconda3\\envs\\cs168-project\\Lib\\site-packages\\umap\\distances.py:1086: NumbaDeprecationWarning: \u001b[1mThe 'nopython' keyword argument was not supplied to the 'numba.jit' decorator. The implicit default value for this argument is currently False, but it will be changed to True in Numba 0.59.0. See https://numba.readthedocs.io/en/stable/reference/deprecation.html#deprecation-of-object-mode-fall-back-behaviour-when-using-jit for details.\u001b[0m\n",
      "  @numba.jit()\n",
      "c:\\Users\\Windows\\anaconda3\\envs\\cs168-project\\Lib\\site-packages\\umap\\umap_.py:660: NumbaDeprecationWarning: \u001b[1mThe 'nopython' keyword argument was not supplied to the 'numba.jit' decorator. The implicit default value for this argument is currently False, but it will be changed to True in Numba 0.59.0. See https://numba.readthedocs.io/en/stable/reference/deprecation.html#deprecation-of-object-mode-fall-back-behaviour-when-using-jit for details.\u001b[0m\n",
      "  @numba.jit()\n"
     ]
    }
   ],
   "source": [
    "import json\n",
    "\n",
    "import numpy as np\n",
    "\n",
    "from cs168_project.experiments import (\n",
    "    ImageDatasetConfig, SKLearnCustomDatasetConfig, SKLearnPresetDatasetConfig, PCAAlgorithmConfig, TSNEAlgorithmConfig,\n",
    "    LLEAlgorithmConfig, UMAPAlgorithmConfig, ExperimentConfig, DatasetType, BaseDatasetConfig, BaseAlgorithmConfig)\n"
   ]
  },
  {
   "cell_type": "code",
   "execution_count": 3,
   "metadata": {},
   "outputs": [],
   "source": [
    "# fixed paramaters\n",
    "data_seed = 0\n",
    "\n",
    "# varied parameters\n",
    "datasets_space = [\n",
    "    ImageDatasetConfig(dataset_type=DatasetType.MNIST, num_samples_limit=10000, seed=data_seed),\n",
    "    ImageDatasetConfig(dataset_type=DatasetType.FASHION_MNIST, num_samples_limit=10000, seed=data_seed),\n",
    "    ImageDatasetConfig(dataset_type=DatasetType.CIFAR10, num_samples_limit=10000, seed=data_seed),\n",
    "    SKLearnPresetDatasetConfig(dataset_type=DatasetType.SKLEARN_DIGITS),\n",
    "    SKLearnPresetDatasetConfig(dataset_type=DatasetType.SKLEARN_IRIS),\n",
    "    SKLearnCustomDatasetConfig(dataset_type=DatasetType.SKLEARN_CUSTOM, seed=data_seed)\n",
    "]\n",
    "algorithms_space = [\n",
    "    PCAAlgorithmConfig(),\n",
    "    TSNEAlgorithmConfig(),\n",
    "    LLEAlgorithmConfig(),\n",
    "    UMAPAlgorithmConfig()\n",
    "]\n",
    "trial_index_space = list(range(3))\n"
   ]
  },
  {
   "cell_type": "code",
   "execution_count": 4,
   "metadata": {},
   "outputs": [],
   "source": [
    "def generate_config(\n",
    "        dataset_config: BaseDatasetConfig,\n",
    "        algorithm_config: BaseAlgorithmConfig,\n",
    "        trial_index: int) -> ExperimentConfig:\n",
    "\n",
    "    experiment_config = ExperimentConfig(\n",
    "        dataset_config=dataset_config,\n",
    "        algorithm_config=algorithm_config,\n",
    "        trial_index=trial_index\n",
    "    )\n",
    "\n",
    "    return experiment_config\n"
   ]
  },
  {
   "cell_type": "code",
   "execution_count": 5,
   "metadata": {},
   "outputs": [],
   "source": [
    "experiment_configs = []\n",
    "\n",
    "spaces = [datasets_space, algorithms_space, trial_index_space]\n",
    "grid_shape = [len(n) for n in spaces]\n",
    "for indices in np.ndindex(*grid_shape):\n",
    "    params = [space[index] for index, space in zip(indices, spaces)]\n",
    "    config = generate_config(*params)\n",
    "    experiment_configs.append(config)\n"
   ]
  },
  {
   "cell_type": "code",
   "execution_count": 6,
   "metadata": {},
   "outputs": [
    {
     "name": "stdout",
     "output_type": "stream",
     "text": [
      "72 configurations generated\n"
     ]
    }
   ],
   "source": [
    "print(len(experiment_configs), \"configurations generated\")\n"
   ]
  },
  {
   "cell_type": "code",
   "execution_count": 7,
   "metadata": {},
   "outputs": [],
   "source": [
    "configs_fname = \"experiment_configs_test1.json\"\n"
   ]
  },
  {
   "cell_type": "code",
   "execution_count": 8,
   "metadata": {},
   "outputs": [],
   "source": [
    "out = [c.to_dict() for c in experiment_configs]\n",
    "with open(configs_fname, 'w') as f:\n",
    "    json.dump(out, f, indent=4)\n"
   ]
  },
  {
   "cell_type": "code",
   "execution_count": null,
   "metadata": {},
   "outputs": [],
   "source": []
  }
 ],
 "metadata": {
  "kernelspec": {
   "display_name": "Python 3 (ipykernel)",
   "language": "python",
   "name": "python3"
  },
  "language_info": {
   "codemirror_mode": {
    "name": "ipython",
    "version": 3
   },
   "file_extension": ".py",
   "mimetype": "text/x-python",
   "name": "python",
   "nbconvert_exporter": "python",
   "pygments_lexer": "ipython3",
   "version": "3.11.3"
  }
 },
 "nbformat": 4,
 "nbformat_minor": 4
}
