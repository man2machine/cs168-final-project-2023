{
 "cells": [
  {
   "cell_type": "code",
   "execution_count": 1,
   "metadata": {},
   "outputs": [],
   "source": [
    "import sys\n",
    "\n",
    "sys.path.append(\"../\")\n"
   ]
  },
  {
   "cell_type": "code",
   "execution_count": 2,
   "metadata": {},
   "outputs": [
    {
     "name": "stderr",
     "output_type": "stream",
     "text": [
      "c:\\Users\\Windows\\anaconda3\\envs\\cs168-project\\Lib\\site-packages\\umap\\distances.py:1063: NumbaDeprecationWarning: \u001b[1mThe 'nopython' keyword argument was not supplied to the 'numba.jit' decorator. The implicit default value for this argument is currently False, but it will be changed to True in Numba 0.59.0. See https://numba.readthedocs.io/en/stable/reference/deprecation.html#deprecation-of-object-mode-fall-back-behaviour-when-using-jit for details.\u001b[0m\n",
      "  @numba.jit()\n",
      "c:\\Users\\Windows\\anaconda3\\envs\\cs168-project\\Lib\\site-packages\\umap\\distances.py:1071: NumbaDeprecationWarning: \u001b[1mThe 'nopython' keyword argument was not supplied to the 'numba.jit' decorator. The implicit default value for this argument is currently False, but it will be changed to True in Numba 0.59.0. See https://numba.readthedocs.io/en/stable/reference/deprecation.html#deprecation-of-object-mode-fall-back-behaviour-when-using-jit for details.\u001b[0m\n",
      "  @numba.jit()\n",
      "c:\\Users\\Windows\\anaconda3\\envs\\cs168-project\\Lib\\site-packages\\umap\\distances.py:1086: NumbaDeprecationWarning: \u001b[1mThe 'nopython' keyword argument was not supplied to the 'numba.jit' decorator. The implicit default value for this argument is currently False, but it will be changed to True in Numba 0.59.0. See https://numba.readthedocs.io/en/stable/reference/deprecation.html#deprecation-of-object-mode-fall-back-behaviour-when-using-jit for details.\u001b[0m\n",
      "  @numba.jit()\n",
      "c:\\Users\\Windows\\anaconda3\\envs\\cs168-project\\Lib\\site-packages\\umap\\umap_.py:660: NumbaDeprecationWarning: \u001b[1mThe 'nopython' keyword argument was not supplied to the 'numba.jit' decorator. The implicit default value for this argument is currently False, but it will be changed to True in Numba 0.59.0. See https://numba.readthedocs.io/en/stable/reference/deprecation.html#deprecation-of-object-mode-fall-back-behaviour-when-using-jit for details.\u001b[0m\n",
      "  @numba.jit()\n"
     ]
    },
    {
     "data": {
      "text/plain": [
       "<contextlib.ExitStack at 0x1be51ee7910>"
      ]
     },
     "execution_count": 2,
     "metadata": {},
     "output_type": "execute_result"
    }
   ],
   "source": [
    "import os\n",
    "import json\n",
    "import shutil\n",
    "\n",
    "import numpy as np\n",
    "import matplotlib.pyplot as plt\n",
    "from tqdm import tqdm\n",
    "\n",
    "from cs168_project.experiments import (\n",
    "    DatasetType, AlgorithmType, ExperimentConfig, ExperimentManager, ExperimentStatsRunner)\n",
    "from cs168_project.datasets import DATASET_TO_LABEL\n",
    "from cs168_project.algorithm import ALGORITHM_TO_LABEL\n",
    "from cs168_project.evaluation import DEFAULT_OUTPUT_DIR\n",
    "\n",
    "plt.ioff()\n"
   ]
  },
  {
   "cell_type": "code",
   "execution_count": 3,
   "metadata": {},
   "outputs": [],
   "source": [
    "configs_fname = \"experiment_configs_test1.json\"\n"
   ]
  },
  {
   "cell_type": "code",
   "execution_count": 4,
   "metadata": {},
   "outputs": [],
   "source": [
    "with open(configs_fname, 'r') as f:\n",
    "    configs = json.load(f)\n",
    "configs = [ExperimentConfig.from_dict(c) for c in configs]\n"
   ]
  },
  {
   "cell_type": "code",
   "execution_count": 5,
   "metadata": {},
   "outputs": [],
   "source": [
    "manager = ExperimentManager()\n"
   ]
  },
  {
   "cell_type": "code",
   "execution_count": 6,
   "metadata": {},
   "outputs": [
    {
     "name": "stderr",
     "output_type": "stream",
     "text": [
      " 33%|███▎      | 24/72 [00:32<01:05,  1.37s/it]"
     ]
    },
    {
     "name": "stdout",
     "output_type": "stream",
     "text": [
      "Files already downloaded and verified\n",
      "Files already downloaded and verified\n"
     ]
    },
    {
     "name": "stderr",
     "output_type": "stream",
     "text": [
      " 35%|███▍      | 25/72 [00:35<01:26,  1.84s/it]"
     ]
    },
    {
     "name": "stdout",
     "output_type": "stream",
     "text": [
      "Files already downloaded and verified\n",
      "Files already downloaded and verified\n"
     ]
    },
    {
     "name": "stderr",
     "output_type": "stream",
     "text": [
      " 36%|███▌      | 26/72 [00:38<01:39,  2.17s/it]"
     ]
    },
    {
     "name": "stdout",
     "output_type": "stream",
     "text": [
      "Files already downloaded and verified\n",
      "Files already downloaded and verified\n"
     ]
    },
    {
     "name": "stderr",
     "output_type": "stream",
     "text": [
      " 38%|███▊      | 27/72 [00:41<01:48,  2.40s/it]"
     ]
    },
    {
     "name": "stdout",
     "output_type": "stream",
     "text": [
      "Files already downloaded and verified\n",
      "Files already downloaded and verified\n"
     ]
    },
    {
     "name": "stderr",
     "output_type": "stream",
     "text": [
      " 39%|███▉      | 28/72 [00:44<01:52,  2.56s/it]"
     ]
    },
    {
     "name": "stdout",
     "output_type": "stream",
     "text": [
      "Files already downloaded and verified\n",
      "Files already downloaded and verified\n"
     ]
    },
    {
     "name": "stderr",
     "output_type": "stream",
     "text": [
      " 40%|████      | 29/72 [00:47<01:54,  2.67s/it]"
     ]
    },
    {
     "name": "stdout",
     "output_type": "stream",
     "text": [
      "Files already downloaded and verified\n",
      "Files already downloaded and verified\n"
     ]
    },
    {
     "name": "stderr",
     "output_type": "stream",
     "text": [
      " 42%|████▏     | 30/72 [00:50<01:55,  2.75s/it]"
     ]
    },
    {
     "name": "stdout",
     "output_type": "stream",
     "text": [
      "Files already downloaded and verified\n",
      "Files already downloaded and verified\n"
     ]
    },
    {
     "name": "stderr",
     "output_type": "stream",
     "text": [
      " 43%|████▎     | 31/72 [00:53<01:54,  2.80s/it]"
     ]
    },
    {
     "name": "stdout",
     "output_type": "stream",
     "text": [
      "Files already downloaded and verified\n",
      "Files already downloaded and verified\n"
     ]
    },
    {
     "name": "stderr",
     "output_type": "stream",
     "text": [
      " 44%|████▍     | 32/72 [00:56<01:53,  2.83s/it]"
     ]
    },
    {
     "name": "stdout",
     "output_type": "stream",
     "text": [
      "Files already downloaded and verified\n",
      "Files already downloaded and verified\n"
     ]
    },
    {
     "name": "stderr",
     "output_type": "stream",
     "text": [
      " 46%|████▌     | 33/72 [00:59<01:51,  2.86s/it]"
     ]
    },
    {
     "name": "stdout",
     "output_type": "stream",
     "text": [
      "Files already downloaded and verified\n",
      "Files already downloaded and verified\n"
     ]
    },
    {
     "name": "stderr",
     "output_type": "stream",
     "text": [
      " 47%|████▋     | 34/72 [01:02<01:49,  2.88s/it]"
     ]
    },
    {
     "name": "stdout",
     "output_type": "stream",
     "text": [
      "Files already downloaded and verified\n",
      "Files already downloaded and verified\n"
     ]
    },
    {
     "name": "stderr",
     "output_type": "stream",
     "text": [
      " 49%|████▊     | 35/72 [01:05<01:47,  2.89s/it]"
     ]
    },
    {
     "name": "stdout",
     "output_type": "stream",
     "text": [
      "Files already downloaded and verified\n",
      "Files already downloaded and verified\n"
     ]
    },
    {
     "name": "stderr",
     "output_type": "stream",
     "text": [
      "100%|██████████| 72/72 [01:08<00:00,  1.05it/s]\n"
     ]
    }
   ],
   "source": [
    "stats_per_experiment = [manager.load_stats(config) for config in tqdm(configs)]\n"
   ]
  },
  {
   "cell_type": "code",
   "execution_count": 7,
   "metadata": {},
   "outputs": [],
   "source": [
    "dataset_fields = [\n",
    "    DatasetType.MNIST,\n",
    "    DatasetType.FASHION_MNIST,\n",
    "    DatasetType.CIFAR10,\n",
    "    DatasetType.SKLEARN_DIGITS,\n",
    "    DatasetType.SKLEARN_IRIS,\n",
    "    DatasetType.SKLEARN_CUSTOM\n",
    "]\n",
    "algorithm_fields = [\n",
    "    AlgorithmType.PCA,\n",
    "    AlgorithmType.LLE,\n",
    "    AlgorithmType.TSNE,\n",
    "    AlgorithmType.UMAP\n",
    "]\n",
    "num_trials = 3\n",
    "\n",
    "knn_num_neighbors_data = np.zeros(\n",
    "    (len(dataset_fields), len(algorithm_fields), ExperimentStatsRunner.NUM_KNN_TESTS), dtype=np.int64)\n",
    "knn_acc_data = np.zeros(\n",
    "    (len(dataset_fields), len(algorithm_fields), ExperimentStatsRunner.NUM_KNN_TESTS, num_trials), dtype=np.float64)\n",
    "for stats, config in zip(stats_per_experiment, configs):\n",
    "    i = dataset_fields.index(config.dataset_config.dataset_type)\n",
    "    j = algorithm_fields.index(config.algorithm_config.algorithm_type)\n",
    "    k = config.trial_index\n",
    "    num_neighbor_values, knn_acc_values = list(zip(*stats.knn_accs))\n",
    "    knn_num_neighbors_data[i, j] = np.array(num_neighbor_values, dtype=np.int64)\n",
    "    knn_acc_data[i, j, :, k] = np.array(knn_acc_values, dtype=np.float64)\n"
   ]
  },
  {
   "cell_type": "code",
   "execution_count": 8,
   "metadata": {},
   "outputs": [],
   "source": [
    "for i, dataset_type in enumerate(dataset_fields):\n",
    "    table = r\"\\\\textbf{k} & \"\n",
    "    for algorithm_type in algorithm_fields:\n",
    "        table += f\"\\\\textbf{{{ALGORITHM_TO_LABEL[algorithm_type]}}} & \"\n",
    "    table += \" \\\\\\\\ \\n\"\n",
    "    for j in range(ExperimentStatsRunner.NUM_KNN_TESTS):\n",
    "        num_neighbors = knn_num_neighbors_data[i, k, j]\n",
    "        table += f\"{num_neighbors} & \"\n",
    "        for k, algorithm_type in enumerate(algorithm_fields):\n",
    "            acc_avg = np.mean(knn_acc_data[i, k, j])\n",
    "            acc_std = np.std(knn_acc_data[i, k, j])\n",
    "            table += \"{:.2F} {{\\\\tiny ($\\\\pm$ {:.4f})}} & \".format(acc_avg, acc_std)\n",
    "        table += \" \\\\\\\\ \\n\"\n",
    "    fname = os.path.join(DEFAULT_OUTPUT_DIR, \"knn_acc_table_{}.txt\".format(dataset_type.value))\n",
    "    with open(fname, 'w') as f:\n",
    "        f.write(table)"
   ]
  },
  {
   "cell_type": "code",
   "execution_count": 9,
   "metadata": {},
   "outputs": [],
   "source": [
    "for i, dataset_type in enumerate(dataset_fields):\n",
    "    fig = plt.figure()\n",
    "    ax = fig.add_subplot()\n",
    "    for j, algorithm_type in enumerate(algorithm_fields):\n",
    "        x = knn_num_neighbors_data[i, j]\n",
    "        acc_avgs = np.mean(knn_acc_data[i, j], axis=1)\n",
    "        acc_stds = np.std(knn_acc_data[i, j], axis=1)\n",
    "        ax.errorbar(x=x, y=acc_avgs, yerr=acc_stds, marker='o', capsize=10, label=ALGORITHM_TO_LABEL[algorithm_type])\n",
    "    ax.set_title(f\"{DATASET_TO_LABEL[dataset_type]} kNN Classification Performance\")\n",
    "    ax.set_xlabel(\"Num Neighbors\")\n",
    "    ax.set_ylabel(\"Accuracy\")\n",
    "    ax.legend(bbox_to_anchor=(1.04, 1), loc='upper left')\n",
    "    fig.tight_layout()\n",
    "    plt.close()\n",
    "    \n",
    "    fname = os.path.join(DEFAULT_OUTPUT_DIR, \"knn_acc_plot_{}.png\".format(dataset_type.value))\n",
    "    fig.savefig(fname)\n"
   ]
  },
  {
   "cell_type": "code",
   "execution_count": 10,
   "metadata": {},
   "outputs": [],
   "source": [
    "dataset_type = DatasetType.MNIST\n",
    "\n",
    "for algorithm_type in algorithm_fields:\n",
    "    fname = os.path.join(\n",
    "        DEFAULT_OUTPUT_DIR,\n",
    "        \"embedding_plot_{}_{}.png\".format(dataset_type.value, algorithm_type.value))\n",
    "    for stats, config in zip(stats_per_experiment, configs):\n",
    "        if ((config.dataset_config.dataset_type == dataset_type) and \n",
    "            (config.algorithm_config.algorithm_type == algorithm_type)):\n",
    "            break\n",
    "    else:\n",
    "        raise ValueError()\n",
    "    shutil.copyfile(stats.fig_fname, fname)"
   ]
  },
  {
   "cell_type": "code",
   "execution_count": null,
   "metadata": {},
   "outputs": [],
   "source": []
  }
 ],
 "metadata": {
  "kernelspec": {
   "display_name": "cs168-project",
   "language": "python",
   "name": "python3"
  },
  "language_info": {
   "codemirror_mode": {
    "name": "ipython",
    "version": 3
   },
   "file_extension": ".py",
   "mimetype": "text/x-python",
   "name": "python",
   "nbconvert_exporter": "python",
   "pygments_lexer": "ipython3",
   "version": "3.11.3"
  },
  "orig_nbformat": 4
 },
 "nbformat": 4,
 "nbformat_minor": 2
}
